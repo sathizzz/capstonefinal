{
 "cells": [
  {
   "cell_type": "markdown",
   "metadata": {
    "collapsed": true
   },
   "source": [
    "## Data"
   ]
  },
  {
   "cell_type": "markdown",
   "metadata": {},
   "source": [
    "According to the question, following data are required."
   ]
  },
  {
   "cell_type": "markdown",
   "metadata": {},
   "source": [
    "I need to compare 5 possible locations with current cinemas in Hong Kong. Therefore, I need to find a list of Sydney cinema and cinema's geographic coordinates."
   ]
  },
  {
   "cell_type": "code",
   "execution_count": 2,
   "metadata": {},
   "outputs": [],
   "source": [
    "# Import necessary library\n",
    "import json\n",
    "import pandas as pd"
   ]
  },
  {
   "cell_type": "code",
   "execution_count": 6,
   "metadata": {},
   "outputs": [
    {
     "name": "stdout",
     "output_type": "stream",
     "text": [
      "--2020-01-25 08:24:07--  https://hkmovie6.com/api/cinemas/lists\n",
      "Resolving hkmovie6.com (hkmovie6.com)... 104.31.67.1, 104.31.66.1, 2606:4700:3035::681f:4201, ...\n",
      "Connecting to hkmovie6.com (hkmovie6.com)|104.31.67.1|:443... connected.\n",
      "HTTP request sent, awaiting response... 200 OK\n",
      "Length: unspecified [application/json]\n",
      "Saving to: ‘hk_cinema_list.json’\n",
      "\n",
      "    [ <=>                                   ] 56,405       352KB/s   in 0.2s   \n",
      "\n",
      "2020-01-25 08:24:08 (352 KB/s) - ‘hk_cinema_list.json’ saved [56405]\n",
      "\n"
     ]
    }
   ],
   "source": [
    "# Download the cinema list\n",
    "!wget -O hk_cinema_list.json https://hkmovie6.com/api/cinemas/lists"
   ]
  },
  {
   "cell_type": "code",
   "execution_count": 7,
   "metadata": {},
   "outputs": [],
   "source": [
    "cinemas_json = None\n",
    "with open('hk_cinema_list.json', 'r', encoding='utf-8') as f:\n",
    "    cinemas_json = json.load(f)\n",
    "    \n",
    "cinemas = []\n",
    "for data in cinemas_json['data']:    \n",
    "    cinemas.append({\n",
    "        'Name': data['name'],\n",
    "        'ChiName': data['chiName'],\n",
    "        'Address': data['address'],\n",
    "        'Latitude': data['lat'],\n",
    "        'Longitude': data['lon']\n",
    "    })\n",
    "df_cinemas = pd.DataFrame(cinemas, columns=['Name','ChiName','Address','Latitude','Longitude'])"
   ]
  },
  {
   "cell_type": "code",
   "execution_count": 13,
   "metadata": {},
   "outputs": [
    {
     "name": "stdout",
     "output_type": "stream",
     "text": [
      "There are 73 cinemas in Hong Kong\n"
     ]
    }
   ],
   "source": [
    "print('There are {} cinemas in Hong Kong'.format(len(df_cinemas)))\n"
   ]
  },
  {
   "cell_type": "markdown",
   "metadata": {},
   "source": [
    "First five Cinemas of Hong kong"
   ]
  },
  {
   "cell_type": "code",
   "execution_count": 14,
   "metadata": {},
   "outputs": [
    {
     "data": {
      "text/html": [
       "<div>\n",
       "<style scoped>\n",
       "    .dataframe tbody tr th:only-of-type {\n",
       "        vertical-align: middle;\n",
       "    }\n",
       "\n",
       "    .dataframe tbody tr th {\n",
       "        vertical-align: top;\n",
       "    }\n",
       "\n",
       "    .dataframe thead th {\n",
       "        text-align: right;\n",
       "    }\n",
       "</style>\n",
       "<table border=\"1\" class=\"dataframe\">\n",
       "  <thead>\n",
       "    <tr style=\"text-align: right;\">\n",
       "      <th></th>\n",
       "      <th>Name</th>\n",
       "      <th>ChiName</th>\n",
       "      <th>Address</th>\n",
       "      <th>Latitude</th>\n",
       "      <th>Longitude</th>\n",
       "    </tr>\n",
       "  </thead>\n",
       "  <tbody>\n",
       "    <tr>\n",
       "      <th>0</th>\n",
       "      <td>Emperor Cinemas（CITYWALK）</td>\n",
       "      <td>英皇戲院（荃灣荃新天地）</td>\n",
       "      <td>Citywalk II, Tsuen Wan</td>\n",
       "      <td>22.369749</td>\n",
       "      <td>114.113714</td>\n",
       "    </tr>\n",
       "    <tr>\n",
       "      <th>1</th>\n",
       "      <td>Emperor Cinemas（iSQUARE）</td>\n",
       "      <td>英皇戲院（尖沙咀iSQUARE）</td>\n",
       "      <td>7/F, iSQUARE, 63 Nathan Road, Tsim Sha Tsui</td>\n",
       "      <td>22.304873</td>\n",
       "      <td>114.190682</td>\n",
       "    </tr>\n",
       "    <tr>\n",
       "      <th>2</th>\n",
       "      <td>Emperor Cinemas（Entertainment Building）</td>\n",
       "      <td>英皇戲院（中環娛樂行）</td>\n",
       "      <td>3/F, Emperor Cinemas Entertainment Building, 3...</td>\n",
       "      <td>22.281453</td>\n",
       "      <td>114.154230</td>\n",
       "    </tr>\n",
       "    <tr>\n",
       "      <th>3</th>\n",
       "      <td>Emperor Cinemas（Ma On Shan）</td>\n",
       "      <td>英皇戲院（馬鞍山新港城中心）</td>\n",
       "      <td>L2, MOSTown, Sai Sha Road, Ma On Shan, N.T.</td>\n",
       "      <td>22.424120</td>\n",
       "      <td>114.230957</td>\n",
       "    </tr>\n",
       "    <tr>\n",
       "      <th>4</th>\n",
       "      <td>Emperor Cinemas（Tuen Mun）</td>\n",
       "      <td>英皇戲院（屯門新都商場）</td>\n",
       "      <td>3/F, New Town Commercial Arcade, 2 Tuen Lee St...</td>\n",
       "      <td>22.390776</td>\n",
       "      <td>113.975983</td>\n",
       "    </tr>\n",
       "  </tbody>\n",
       "</table>\n",
       "</div>"
      ],
      "text/plain": [
       "                                      Name           ChiName  \\\n",
       "0                Emperor Cinemas（CITYWALK）      英皇戲院（荃灣荃新天地）   \n",
       "1                 Emperor Cinemas（iSQUARE）  英皇戲院（尖沙咀iSQUARE）   \n",
       "2  Emperor Cinemas（Entertainment Building）       英皇戲院（中環娛樂行）   \n",
       "3              Emperor Cinemas（Ma On Shan）    英皇戲院（馬鞍山新港城中心）   \n",
       "4                Emperor Cinemas（Tuen Mun）      英皇戲院（屯門新都商場）   \n",
       "\n",
       "                                             Address   Latitude   Longitude  \n",
       "0                             Citywalk II, Tsuen Wan  22.369749  114.113714  \n",
       "1        7/F, iSQUARE, 63 Nathan Road, Tsim Sha Tsui  22.304873  114.190682  \n",
       "2  3/F, Emperor Cinemas Entertainment Building, 3...  22.281453  114.154230  \n",
       "3        L2, MOSTown, Sai Sha Road, Ma On Shan, N.T.  22.424120  114.230957  \n",
       "4  3/F, New Town Commercial Arcade, 2 Tuen Lee St...  22.390776  113.975983  "
      ]
     },
     "execution_count": 14,
     "metadata": {},
     "output_type": "execute_result"
    }
   ],
   "source": [
    "df_cinemas.head()"
   ]
  },
  {
   "cell_type": "code",
   "execution_count": null,
   "metadata": {},
   "outputs": [],
   "source": []
  }
 ],
 "metadata": {
  "kernelspec": {
   "display_name": "Python 3.6",
   "language": "python",
   "name": "python3"
  },
  "language_info": {
   "codemirror_mode": {
    "name": "ipython",
    "version": 3
   },
   "file_extension": ".py",
   "mimetype": "text/x-python",
   "name": "python",
   "nbconvert_exporter": "python",
   "pygments_lexer": "ipython3",
   "version": "3.6.9"
  }
 },
 "nbformat": 4,
 "nbformat_minor": 1
}
